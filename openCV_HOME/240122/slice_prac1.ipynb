{
 "cells": [
  {
   "cell_type": "code",
   "execution_count": 9,
   "metadata": {},
   "outputs": [
    {
     "name": "stdout",
     "output_type": "stream",
     "text": [
      "[1 2 3 4 5]\n",
      "(5,)\n",
      "[ 1  2  3 77  5]\n"
     ]
    }
   ],
   "source": [
    "import numpy as np \n",
    "\n",
    "a1 = np.array([1,2,3,4,5])\n",
    "print(a1)\n",
    "print(np.shape(a1))\n",
    "a1[3]=77\n",
    "print(a1)"
   ]
  },
  {
   "cell_type": "code",
   "execution_count": 10,
   "metadata": {},
   "outputs": [
    {
     "name": "stdout",
     "output_type": "stream",
     "text": [
      "[1 0 3 0 5]\n"
     ]
    }
   ],
   "source": [
    "index = np.array([1,3])\n",
    "a1[index] = 0 \n",
    "print(a1)"
   ]
  },
  {
   "cell_type": "code",
   "execution_count": 11,
   "metadata": {},
   "outputs": [
    {
     "name": "stdout",
     "output_type": "stream",
     "text": [
      "[1 5 3 5 5]\n"
     ]
    }
   ],
   "source": [
    "a1[index] += 5\n",
    "print(a1)"
   ]
  },
  {
   "cell_type": "code",
   "execution_count": 13,
   "metadata": {},
   "outputs": [
    {
     "name": "stdout",
     "output_type": "stream",
     "text": [
      "[[ 1  2  3]\n",
      " [ 4  5 10]\n",
      " [ 7  8  9]]\n"
     ]
    }
   ],
   "source": [
    "a2 = np.array([[1,2,3],[4,5,6],[7,8,9]])\n",
    "a2[1,2]=10\n",
    "print(a2)"
   ]
  },
  {
   "cell_type": "code",
   "execution_count": 14,
   "metadata": {},
   "outputs": [
    {
     "name": "stdout",
     "output_type": "stream",
     "text": [
      "[[ 1  2  3]\n",
      " [ 4  5 10]\n",
      " [ 0  0  0]]\n"
     ]
    }
   ],
   "source": [
    "a2[2] = 0 \n",
    "print(a2)"
   ]
  },
  {
   "cell_type": "code",
   "execution_count": 15,
   "metadata": {},
   "outputs": [
    {
     "name": "stdout",
     "output_type": "stream",
     "text": [
      "[[ 1  7  3]\n",
      " [ 4  7 10]\n",
      " [ 0  7  0]]\n"
     ]
    }
   ],
   "source": [
    "a2[:,1]=7 #슬라이스는 원본의 배열을 바꿈 \n",
    "print(a2)"
   ]
  },
  {
   "cell_type": "code",
   "execution_count": 16,
   "metadata": {},
   "outputs": [
    {
     "name": "stdout",
     "output_type": "stream",
     "text": [
      "[[ 1  7  3]\n",
      " [ 4  3 10]\n",
      " [ 0  3  0]]\n"
     ]
    }
   ],
   "source": [
    "a2[1:,1]=3\n",
    "print(a2)"
   ]
  },
  {
   "cell_type": "code",
   "execution_count": 17,
   "metadata": {},
   "outputs": [
    {
     "name": "stdout",
     "output_type": "stream",
     "text": [
      "[[1 0 3]\n",
      " [4 3 0]\n",
      " [0 3 0]]\n"
     ]
    }
   ],
   "source": [
    "row = np.array([0,1])\n",
    "col = np.array([1,2])\n",
    "a2[row,col] = 0 \n",
    "print(a2)"
   ]
  },
  {
   "cell_type": "code",
   "execution_count": 18,
   "metadata": {},
   "outputs": [
    {
     "name": "stdout",
     "output_type": "stream",
     "text": [
      "[[1 0 3]\n",
      " [4 3 0]\n",
      " [0 3 0]]\n",
      "[[1 0 3]\n",
      " [4 3 0]\n",
      " [0 3 0]]\n",
      "[[1 0 3]\n",
      " [4 3 0]]\n"
     ]
    }
   ],
   "source": [
    "print(a2)\n",
    "b = np.delete(a2,2,axis=0) #axis가 0이면 row, 1이면 col \n",
    "print(a2) #원본배열 유지됨\n",
    "print(b)"
   ]
  },
  {
   "cell_type": "code",
   "execution_count": 20,
   "metadata": {},
   "outputs": [
    {
     "name": "stdout",
     "output_type": "stream",
     "text": [
      "[[1 0 3]\n",
      " [4 3 0]\n",
      " [0 3 0]]\n",
      "[[1 0]\n",
      " [4 3]]\n",
      "[[1 2]\n",
      " [4 2]]\n"
     ]
    }
   ],
   "source": [
    "b2 = a2[:2,:2].copy()\n",
    "print(a2)\n",
    "print(b2)\n",
    "b2[:,1] =2\n",
    "print(b2)"
   ]
  },
  {
   "cell_type": "code",
   "execution_count": 21,
   "metadata": {},
   "outputs": [
    {
     "name": "stdout",
     "output_type": "stream",
     "text": [
      "[[[0 2 3]\n",
      "  [0 5 6]\n",
      "  [0 8 9]]\n",
      "\n",
      " [[0 2 3]\n",
      "  [0 5 6]\n",
      "  [0 8 9]]\n",
      "\n",
      " [[0 2 3]\n",
      "  [0 5 6]\n",
      "  [0 8 9]]]\n"
     ]
    }
   ],
   "source": [
    "a3 = np.array([[[1,2,3],[4,5,6],[7,8,9]],\n",
    "               [[1,2,3],[4,5,6],[7,8,9]],\n",
    "               [[1,2,3],[4,5,6],[7,8,9]]])\n",
    "\n",
    "a3[:,:,0]=0\n",
    "print(a3)"
   ]
  }
 ],
 "metadata": {
  "kernelspec": {
   "display_name": "Python 3",
   "language": "python",
   "name": "python3"
  },
  "language_info": {
   "codemirror_mode": {
    "name": "ipython",
    "version": 3
   },
   "file_extension": ".py",
   "mimetype": "text/x-python",
   "name": "python",
   "nbconvert_exporter": "python",
   "pygments_lexer": "ipython3",
   "version": "3.11.5"
  }
 },
 "nbformat": 4,
 "nbformat_minor": 2
}
